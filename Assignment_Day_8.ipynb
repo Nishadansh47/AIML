{
  "nbformat": 4,
  "nbformat_minor": 0,
  "metadata": {
    "colab": {
      "name": "Assignment_Day_8.ipynb",
      "provenance": [],
      "collapsed_sections": []
    },
    "kernelspec": {
      "name": "python3",
      "display_name": "Python 3"
    }
  },
  "cells": [
    {
      "cell_type": "markdown",
      "metadata": {
        "id": "wFgu98Q1S1zZ",
        "colab_type": "text"
      },
      "source": [
        "Question 1:\n",
        "\n",
        "---\n",
        "\n",
        "\n",
        "Recreate “NB 21 map, filter, lambda.ipynb” to try different variations or perform different calculations from\n",
        "the ones that are in the NB\n",
        "\n",
        "Answer:--------------------------"
      ]
    },
    {
      "cell_type": "markdown",
      "metadata": {
        "id": "rXcd8mdSTHIk",
        "colab_type": "text"
      },
      "source": [
        "1.map(), filter() and reduce() are built-in functions of Python.\n",
        "\n",
        "  These functions enable the functional programming aspect of Python.\n",
        "\n",
        "  In Functional Programming, the arguments passed are the only factors \n",
        "  that decide upon the output.\n",
        "\n",
        "  These functions can take any other function as a parameter and can\n",
        "  be supplied  to other functions as parameters as well.\n",
        "\n",
        "  map()-\n",
        "  It applies the given function to all iterables and returns a new list.\n",
        "\n",
        "  SYNTAX:\n",
        "\n",
        "  map(function, iterables)\n",
        "\n",
        "\n",
        "\n",
        "---\n",
        "\n"
      ]
    },
    {
      "cell_type": "markdown",
      "metadata": {
        "id": "z-fniIdrT2qu",
        "colab_type": "text"
      },
      "source": [
        "Example--\n",
        "Calculate the length of each word in the tuple:\n",
        "\n"
      ]
    },
    {
      "cell_type": "code",
      "metadata": {
        "id": "-abf6YjKSIis",
        "colab_type": "code",
        "colab": {}
      },
      "source": [
        "def myfunc(n):\n",
        "  return len(n)\n",
        "\n",
        "x = map(myfunc, ('apple', 'banana', 'cherry'))\n",
        "\n",
        "#convert the map into a list, for readability:\n",
        "print(list(x))"
      ],
      "execution_count": null,
      "outputs": []
    },
    {
      "cell_type": "markdown",
      "metadata": {
        "id": "-1V02izCVRDl",
        "colab_type": "text"
      },
      "source": [
        "Example 2--\n",
        "Make new fruits by sending two iterable objects into the function:"
      ]
    },
    {
      "cell_type": "code",
      "metadata": {
        "id": "UgwlC_qoVUU2",
        "colab_type": "code",
        "colab": {}
      },
      "source": [
        "def myfunc(a, b):\n",
        "  return a + b\n",
        "\n",
        "x = map(myfunc, ('apple', 'banana', 'cherry'), ('orange', 'lemon', 'pineapple'))\n",
        "\n",
        "#convert the map into a list, for readability:\n",
        "print(list(x))"
      ],
      "execution_count": null,
      "outputs": []
    },
    {
      "cell_type": "markdown",
      "metadata": {
        "id": "MyZ-B5xzVwHd",
        "colab_type": "text"
      },
      "source": [
        "Example 3: Passing Multiple Iterators to map() Using Lambda\n",
        "In this example, corresponding items of two lists are added."
      ]
    },
    {
      "cell_type": "code",
      "metadata": {
        "id": "PvTznXv4VuvT",
        "colab_type": "code",
        "colab": {}
      },
      "source": [
        "num1 = [4, 5, 6]\n",
        "num2 = [5, 6, 7]\n",
        "\n",
        "result = map(lambda n1, n2: n1+n2, num1, num2)\n",
        "print(list(result))"
      ],
      "execution_count": null,
      "outputs": []
    },
    {
      "cell_type": "markdown",
      "metadata": {
        "id": "FJGw3gHwV_IU",
        "colab_type": "text"
      },
      "source": [
        "2. Lambda functions\n",
        "  Everything in the world of programming requires a name, but there \n",
        "  still there   are a few ananymous mysteries. Lambda functions or \n",
        "  Lambda expressions are one   of these kind of entities that are nameless.\n",
        "\n",
        "  They are the functions that do not have any name.\n",
        "\n",
        "  We also call them as anonymous or nameless functions.\n",
        "\n",
        "  They are generally provided as input to other functions.\n",
        "\n",
        "  Lambda functions are single line functions. Therefore we have to provide \n",
        "  the expression along with the function itself.\n",
        "\n",
        "  Note: 'lambda' is not a name, it s a keyword.\n",
        "\n",
        "  Use of lambda functions:\n",
        "\n",
        "  One time use: They are used in places where we know that the function\n",
        "  will be required just once. Therefore, lambda functions are also called \n",
        "  as throw away functions.\n",
        "\n",
        "  Input/Output to other functions: They are also passed as inputs or \n",
        "  returned as outputs of other higher-order functions.\n",
        "\n",
        "  Reduce Code size: The body of lambda functions is written in a single line.\n",
        "\n",
        "  SYNTAX:\n",
        "\n",
        "  lambda arguments: expression"
      ]
    },
    {
      "cell_type": "markdown",
      "metadata": {
        "id": "46c_8SJrXgBY",
        "colab_type": "text"
      },
      "source": [
        "Example :Use that function definition to make a function that always doubles   the number you send in:"
      ]
    },
    {
      "cell_type": "code",
      "metadata": {
        "id": "__qIH5QKWHtF",
        "colab_type": "code",
        "colab": {}
      },
      "source": [
        "def myfunc(n):\n",
        "  return lambda a : a * n\n",
        "\n",
        "mydoubler = myfunc(2)\n",
        "\n",
        "print(mydoubler(745))"
      ],
      "execution_count": null,
      "outputs": []
    },
    {
      "cell_type": "markdown",
      "metadata": {
        "id": "aCTNFebhXzQD",
        "colab_type": "text"
      },
      "source": [
        "Example 2: Here is an example use of map() function to double all the items in a list."
      ]
    },
    {
      "cell_type": "code",
      "metadata": {
        "id": "JkSbqL6TYICU",
        "colab_type": "code",
        "colab": {
          "base_uri": "https://localhost:8080/",
          "height": 34
        },
        "outputId": "7bae28d2-5386-4b2f-989d-c5fe61f58644"
      },
      "source": [
        "# Program to double each item in a list using map()\n",
        "\n",
        "my_list = [1, 5, 4, 6, 8, 11, 3, 12]\n",
        "\n",
        "new_list = list(map(lambda x: x * 2 , my_list))\n",
        "\n",
        "print(new_list)"
      ],
      "execution_count": 18,
      "outputs": [
        {
          "output_type": "stream",
          "text": [
            "[2, 10, 8, 12, 16, 22, 6, 24]\n"
          ],
          "name": "stdout"
        }
      ]
    },
    {
      "cell_type": "markdown",
      "metadata": {
        "id": "7v6LZiGiYNK8",
        "colab_type": "text"
      },
      "source": [
        "Example 3 :The lambda function assigned to full_name takes two arguments and returns a string interpolating the two parameters first and last"
      ]
    },
    {
      "cell_type": "code",
      "metadata": {
        "id": "xk_gLEX_Yigx",
        "colab_type": "code",
        "colab": {}
      },
      "source": [
        " full_name = lambda first, last: f'Full name: {first.title()} {last.title()}'\n",
        " full_name('anshul', 'nishad')"
      ],
      "execution_count": null,
      "outputs": []
    },
    {
      "cell_type": "markdown",
      "metadata": {
        "id": "SXWaejA42aCo",
        "colab_type": "text"
      },
      "source": [
        "3.filter():\n",
        "  It is used to filter the given iterables with the help of another \n",
        "  function passed as an argument to test all the elements to be True or False.\n",
        "\n",
        "  SYNTAX:\n",
        "\n",
        "  filter(function, iterables)"
      ]
    },
    {
      "cell_type": "markdown",
      "metadata": {
        "id": "FEXXDSCq66xp",
        "colab_type": "text"
      },
      "source": [
        "Example 1 :Function that filters vowels "
      ]
    },
    {
      "cell_type": "code",
      "metadata": {
        "id": "GOkP7wlP2yfz",
        "colab_type": "code",
        "colab": {}
      },
      "source": [
        "def fun(variable): \n",
        "\tletters = ['a', 'e', 'i', 'o', 'u'] \n",
        "\tif (variable in letters): \n",
        "\t\treturn True\n",
        "\telse: \n",
        "\t\treturn False\n",
        "\n",
        "\n",
        "# sequence \n",
        "sequence = ['a','n','s','h','u','l','n','i','s','h','a','d'] \n",
        "\n",
        "# using filter function \n",
        "filtered = filter(fun, sequence) \n",
        "\n",
        "print('The filtered letters are:') \n",
        "for s in filtered: \n",
        "\tprint(s) "
      ],
      "execution_count": null,
      "outputs": []
    },
    {
      "cell_type": "markdown",
      "metadata": {
        "id": "eil9MevS65f8",
        "colab_type": "text"
      },
      "source": [
        "Example 2 : Function That filters even and odd numbers"
      ]
    },
    {
      "cell_type": "code",
      "metadata": {
        "id": "Wj-qIzLE7UlO",
        "colab_type": "code",
        "colab": {}
      },
      "source": [
        "# a list contains both even and odd numbers. \n",
        "seq = [0, 1, 2, 3, 5, 8, 13] \n",
        "\n",
        "# result contains odd numbers of the list \n",
        "result = filter(lambda x: x % 2 != 0, seq) \n",
        "print(f'The odd numbers are : {list(result)}') \n",
        "\n",
        "# result contains even numbers of the list \n",
        "result = filter(lambda x: x % 2 == 0, seq) \n",
        "print(f'The even numbers are : {list(result)}') \n"
      ],
      "execution_count": null,
      "outputs": []
    },
    {
      "cell_type": "markdown",
      "metadata": {
        "id": "RJXvlKRi7xKn",
        "colab_type": "text"
      },
      "source": [
        "Example 3:Filter the array, and return a new array with only the values equal to or above 18:"
      ]
    },
    {
      "cell_type": "code",
      "metadata": {
        "id": "xDWiO06F8FO3",
        "colab_type": "code",
        "colab": {}
      },
      "source": [
        "ages = [5, 12, 17, 18, 24, 32, 3, 64, 27, 16, 9, 22]\n",
        "\n",
        "def myFunc(x):\n",
        "  if x < 18:\n",
        "    return False\n",
        "  else:\n",
        "    return True\n",
        "\n",
        "adults = filter(myFunc, ages)\n",
        "\n",
        "for x in adults:\n",
        "  print(x)"
      ],
      "execution_count": null,
      "outputs": []
    },
    {
      "cell_type": "markdown",
      "metadata": {
        "id": "LQusOAaW8cQR",
        "colab_type": "text"
      },
      "source": [
        "4.reduce():\n",
        "It applies some other function to a list that are passed as a parameter to \n",
        "it and finally return a single value.\n",
        "\n",
        "   SYNTAX:\n",
        " \n",
        "   reduce(function, iterables)"
      ]
    },
    {
      "cell_type": "markdown",
      "metadata": {
        "id": "Y5Ka85ZL9dr9",
        "colab_type": "text"
      },
      "source": [
        "Example 1: Factorial of a number using reduce method"
      ]
    },
    {
      "cell_type": "code",
      "metadata": {
        "id": "Ramcoinl8uoW",
        "colab_type": "code",
        "colab": {}
      },
      "source": [
        "from functools import reduce\n",
        "def mult(x,y):\n",
        "    print(\"x=\",x,\" y=\",y)\n",
        "    return x*y\n",
        "\n",
        "fact=reduce(mult, range(1, 12))\n",
        "print ('Factorial of 11: ', fact)"
      ],
      "execution_count": null,
      "outputs": []
    },
    {
      "cell_type": "markdown",
      "metadata": {
        "id": "C9rTRgIk-Qkj",
        "colab_type": "text"
      },
      "source": [
        "Example 2: To find maximum element in the given list using reduce method"
      ]
    },
    {
      "cell_type": "code",
      "metadata": {
        "id": "zlXj2gyH-uEg",
        "colab_type": "code",
        "colab": {}
      },
      "source": [
        "# python code to demonstrate working of reduce() \n",
        "\n",
        "# importing functools for reduce() \n",
        "from functools import reduce \n",
        "\n",
        "# initializing list \n",
        "lis = [ 1 , 3, 5, 6, 2, 55, 45, 69 ] \n",
        "\n",
        "# using reduce to compute maximum element from list \n",
        "print (reduce(lambda a,b : a if a > b else b,lis)) \n"
      ],
      "execution_count": null,
      "outputs": []
    },
    {
      "cell_type": "markdown",
      "metadata": {
        "id": "3bg1OyEy_ZKh",
        "colab_type": "text"
      },
      "source": [
        "Example 3:Concate strings using reduce method"
      ]
    },
    {
      "cell_type": "code",
      "metadata": {
        "id": "2EjdzCnO_rwi",
        "colab_type": "code",
        "colab": {}
      },
      "source": [
        "from functools import reduce\n",
        "#importing operator function to use add method.\n",
        "from operator import add\n",
        "\n",
        "# using reduce to concatenate string \n",
        "print (\"The concatenated product is : \",end=\"\") \n",
        "print (reduce(add,[\"Nishad\",\" \",\"Ansh\"])) "
      ],
      "execution_count": null,
      "outputs": []
    },
    {
      "cell_type": "markdown",
      "metadata": {
        "id": "dWp_RPThB_-v",
        "colab_type": "text"
      },
      "source": [
        "Question 2:\n",
        "Recreate your own Python NB for “Classes and Objects” from the pdf provided namely\n",
        "“Classes&Objects.pdf”\n",
        "\n"
      ]
    },
    {
      "cell_type": "markdown",
      "metadata": {
        "id": "jc0zHZy5Carb",
        "colab_type": "text"
      },
      "source": [
        "Answer 2:-----------"
      ]
    },
    {
      "cell_type": "markdown",
      "metadata": {
        "id": "85N7iJVfCeqA",
        "colab_type": "text"
      },
      "source": [
        "Python Classes/Objects\n",
        "Python is an object oriented programming language.\n",
        "\n",
        "Almost everything in Python is an object, with its properties and methods.\n",
        "\n",
        "A Class is like an object constructor, or a \"blueprint\" for creating objects."
      ]
    },
    {
      "cell_type": "markdown",
      "metadata": {
        "id": "BHofioVbCopz",
        "colab_type": "text"
      },
      "source": [
        "**Create a Class**\n",
        "To create a class, use the keyword **class**:"
      ]
    },
    {
      "cell_type": "markdown",
      "metadata": {
        "id": "KftwOy_yC97Q",
        "colab_type": "text"
      },
      "source": [
        "Example\n",
        "Create a class named MyClass, with a property named x:"
      ]
    },
    {
      "cell_type": "code",
      "metadata": {
        "id": "8J4-maV-CZ-X",
        "colab_type": "code",
        "colab": {}
      },
      "source": [
        "class MyClass:\n",
        "  x = 5\n",
        "\n",
        "MyClass()"
      ],
      "execution_count": null,
      "outputs": []
    },
    {
      "cell_type": "markdown",
      "metadata": {
        "id": "-xiHJocHDXgk",
        "colab_type": "text"
      },
      "source": [
        "Create Object\n",
        "Now we can use the class named MyClass to create objects:"
      ]
    },
    {
      "cell_type": "markdown",
      "metadata": {
        "id": "PiFjQbn7DY-i",
        "colab_type": "text"
      },
      "source": [
        "Example\n",
        "Create an object named p1, and print the value of x:"
      ]
    },
    {
      "cell_type": "code",
      "metadata": {
        "id": "b1DEQBaeDd2l",
        "colab_type": "code",
        "colab": {}
      },
      "source": [
        "class MyClass:\n",
        "  x = 5\n",
        "\n",
        "p1 = MyClass()\n",
        "print(p1.x)"
      ],
      "execution_count": null,
      "outputs": []
    },
    {
      "cell_type": "markdown",
      "metadata": {
        "id": "5sz_DCBdDm6c",
        "colab_type": "text"
      },
      "source": [
        "The __init()__ Function\n",
        "The examples above are classes and objects in their simplest form, and are not really useful in real life applications\n",
        "\n",
        "To understand the meaning of classes we have to understand the built-in __init__() function.\n",
        "\n",
        "All classes have a function called __init__(), which is always executed when the class is being initiated.\n",
        "\n",
        "Use the __init__() function to assign values to object properties, or other operations that are necessary to do when the object is being created:"
      ]
    },
    {
      "cell_type": "markdown",
      "metadata": {
        "id": "268ABDOnDoSk",
        "colab_type": "text"
      },
      "source": [
        "**Example**\n",
        "Create a class named Person, use the __init__() function to assign values for name and age:"
      ]
    },
    {
      "cell_type": "code",
      "metadata": {
        "id": "wxA30Dt3Ekln",
        "colab_type": "code",
        "colab": {}
      },
      "source": [
        "class Person:\n",
        "  def __init__(self, name, age):\n",
        "    self.name = name\n",
        "    self.age = age\n",
        "\n",
        "p1 = Person(\"John\", 36)\n",
        "\n",
        "print(p1.name)\n",
        "print(p1.age)\n"
      ],
      "execution_count": null,
      "outputs": []
    },
    {
      "cell_type": "markdown",
      "metadata": {
        "id": "MXidDIkAFYGB",
        "colab_type": "text"
      },
      "source": [
        "**Note**: The __init__() function is called automatically every time the class is being used to create a new object."
      ]
    },
    {
      "cell_type": "markdown",
      "metadata": {
        "id": "0B6I8Gd3Fe9B",
        "colab_type": "text"
      },
      "source": [
        "**Object Methods**\n",
        "Objects can also contain methods. Methods in objects are functions that belong to the object.\n",
        "\n",
        "Let us create a method in the Person class:"
      ]
    },
    {
      "cell_type": "markdown",
      "metadata": {
        "id": "wA9YrRorFkWz",
        "colab_type": "text"
      },
      "source": [
        "**Example**\n",
        "Insert a function that prints a greeting, and execute it on the p1 object:"
      ]
    },
    {
      "cell_type": "code",
      "metadata": {
        "id": "3zKz5_-1FomU",
        "colab_type": "code",
        "colab": {}
      },
      "source": [
        "class Person:\n",
        "  def __init__(self, name, age):\n",
        "    self.name = name\n",
        "    self.age = age\n",
        "\n",
        "  def myfunc(self):\n",
        "    print(\"Hello my name is \" + self.name)\n",
        "\n",
        "p1 = Person(\"John\", 36)\n",
        "p1.myfunc()"
      ],
      "execution_count": null,
      "outputs": []
    },
    {
      "cell_type": "markdown",
      "metadata": {
        "id": "LBmHCdNMFtbD",
        "colab_type": "text"
      },
      "source": [
        "**Note**: The **self** parameter is a reference to the current instance of the class, and is used to access variables that belong to the class."
      ]
    },
    {
      "cell_type": "markdown",
      "metadata": {
        "id": "vG4HFFH0Fz_G",
        "colab_type": "text"
      },
      "source": [
        "**The self Parameter**\n",
        "The **self** parameter is a reference to the current instance of the class, and is used to access variables that belongs to the class.\n",
        "\n",
        "It does not have to be named self , you can call it whatever you like, but it has to be the first parameter of any function in the class:"
      ]
    },
    {
      "cell_type": "markdown",
      "metadata": {
        "id": "EUCC86YMGD73",
        "colab_type": "text"
      },
      "source": [
        "**Example**\n",
        "Use the words **mysillyobject** and **abc** instead of self:"
      ]
    },
    {
      "cell_type": "code",
      "metadata": {
        "id": "_s8Pz1ORGlXX",
        "colab_type": "code",
        "colab": {
          "base_uri": "https://localhost:8080/",
          "height": 34
        },
        "outputId": "42dfb084-7f15-4ad4-c5db-e24068da35b9"
      },
      "source": [
        "class Person:\n",
        "  def __init__(mysillyobject, name, age):\n",
        "    mysillyobject.name = name\n",
        "    mysillyobject.age = age\n",
        "\n",
        "  def myfunc(abc):\n",
        "    print(\"Hello my name is \" + abc.name)\n",
        "\n",
        "p1 = Person(\"John\", 36)\n",
        "p1.myfunc()\n"
      ],
      "execution_count": 31,
      "outputs": [
        {
          "output_type": "stream",
          "text": [
            "Hello my name is John\n"
          ],
          "name": "stdout"
        }
      ]
    },
    {
      "cell_type": "markdown",
      "metadata": {
        "id": "-7EOcXOYGpL9",
        "colab_type": "text"
      },
      "source": [
        "**Modify Object Properties**\n",
        "You can modify properties on objects like this:"
      ]
    },
    {
      "cell_type": "markdown",
      "metadata": {
        "id": "E5DplZxIGtwY",
        "colab_type": "text"
      },
      "source": [
        "**Example**\n",
        "Set the age of p1 to 40:\n",
        "\n"
      ]
    },
    {
      "cell_type": "code",
      "metadata": {
        "id": "P7m5HbzRG1O3",
        "colab_type": "code",
        "colab": {}
      },
      "source": [
        "class Person:\n",
        "  def __init__(self, name, age):\n",
        "    self.name = name\n",
        "    self.age = age\n",
        "\n",
        "  def myfunc(self):\n",
        "    print(\"Hello my name is \" + self.name)\n",
        "\n",
        "p1 = Person(\"John\", 36)\n",
        "\n",
        "p1.age = 40\n",
        "\n",
        "print(p1.age)"
      ],
      "execution_count": null,
      "outputs": []
    },
    {
      "cell_type": "markdown",
      "metadata": {
        "id": "zuG2JvMgGzYt",
        "colab_type": "text"
      },
      "source": [
        "**Delete Object Properties**\n",
        "You can delete properties on objects by using the ***del*** keyword:"
      ]
    },
    {
      "cell_type": "markdown",
      "metadata": {
        "id": "s18PJaMYHEY-",
        "colab_type": "text"
      },
      "source": [
        "**Example**\n",
        "Delete the age property from the p1 object:"
      ]
    },
    {
      "cell_type": "code",
      "metadata": {
        "id": "Jn6La-YhHH1p",
        "colab_type": "code",
        "colab": {}
      },
      "source": [
        "class Person:\n",
        "  def __init__(self, name, age):\n",
        "    self.name = name\n",
        "    self.age = age\n",
        "\n",
        "  def myfunc(self):\n",
        "    print(\"Hello my name is \" + self.name)\n",
        "\n",
        "p1 = Person(\"John\", 36)\n",
        "\n",
        "del p1.age\n",
        "\n",
        "print(p1.age) #Here it throw an error because the age object has deleted"
      ],
      "execution_count": null,
      "outputs": []
    },
    {
      "cell_type": "markdown",
      "metadata": {
        "id": "T0Zq41KFIGrL",
        "colab_type": "text"
      },
      "source": [
        "**Delete Objects**\n",
        "You can delete objects by using the del keyword:"
      ]
    },
    {
      "cell_type": "markdown",
      "metadata": {
        "id": "3akIAC3nIPUK",
        "colab_type": "text"
      },
      "source": [
        "**Example**\n",
        "Delete the p1 object:"
      ]
    },
    {
      "cell_type": "code",
      "metadata": {
        "id": "m-JI1chLIVzx",
        "colab_type": "code",
        "colab": {}
      },
      "source": [
        "class Person:\n",
        "  def __init__(self, name, age):\n",
        "    self.name = name\n",
        "    self.age = age\n",
        "\n",
        "  def myfunc(self):\n",
        "    print(\"Hello my name is \" + self.name)\n",
        "\n",
        "p1 = Person(\"John\", 36)\n",
        "\n",
        "del p1\n",
        "\n",
        "print(p1) # Here it throws an error because the p1 object has been deleted"
      ],
      "execution_count": null,
      "outputs": []
    },
    {
      "cell_type": "markdown",
      "metadata": {
        "id": "eo0mz7fuInas",
        "colab_type": "text"
      },
      "source": [
        "**The pass Statement**:\n",
        "***class*** definitions cannot be empty, but if you for some reason have a ***class*** definition with no content, put in the ***pass*** statement to avoid getting an error."
      ]
    },
    {
      "cell_type": "markdown",
      "metadata": {
        "id": "37F0ekpdI5kd",
        "colab_type": "text"
      },
      "source": [
        "**Example**"
      ]
    },
    {
      "cell_type": "code",
      "metadata": {
        "id": "f_m0oAYEI-hB",
        "colab_type": "code",
        "colab": {}
      },
      "source": [
        "class Person:\n",
        "  pass\n",
        "\n",
        "# having an empty class definition like this, would raise an error without the pass statement"
      ],
      "execution_count": 37,
      "outputs": []
    },
    {
      "cell_type": "markdown",
      "metadata": {
        "id": "da2QJHS_JECA",
        "colab_type": "text"
      },
      "source": [
        "**Inheritance**:\n",
        "***Inheritance*** allows us to define a class that inherits all the methods and properties from another class.\n",
        "\n",
        "**Parent class** is the class being inherited from, also called base class.\n",
        "\n",
        "**Child class** is the class that inherits from another class, also called derived class."
      ]
    },
    {
      "cell_type": "markdown",
      "metadata": {
        "id": "i-k8rbctJaV2",
        "colab_type": "text"
      },
      "source": [
        "**Create a Parent Class**\n",
        "Any class can be a parent class, so the syntax is the same as creating any other class:"
      ]
    },
    {
      "cell_type": "markdown",
      "metadata": {
        "id": "8fTQ6BBwJeck",
        "colab_type": "text"
      },
      "source": [
        "**Example**\n",
        "Create a class named Person, with firstname and lastname properties, and a printname method:"
      ]
    },
    {
      "cell_type": "code",
      "metadata": {
        "id": "yVlROuZiJk04",
        "colab_type": "code",
        "colab": {}
      },
      "source": [
        "class Person:\n",
        "  def __init__(self, fname, lname):\n",
        "    self.firstname = fname\n",
        "    self.lastname = lname\n",
        "\n",
        "  def printname(self):\n",
        "    print(self.firstname, self.lastname)\n",
        "\n",
        "#Use the Person class to create an object, and then execute the printname method:\n",
        "\n",
        "x = Person(\"John\", \"Doe\")\n",
        "x.printname()"
      ],
      "execution_count": null,
      "outputs": []
    },
    {
      "cell_type": "markdown",
      "metadata": {
        "id": "Y8OUUj6RKFQf",
        "colab_type": "text"
      },
      "source": [
        "**Create a Child Class**:\n",
        "To create a class that inherits the functionality from another class, send the parent class as a parameter when creating the child class:\n",
        "\n"
      ]
    },
    {
      "cell_type": "markdown",
      "metadata": {
        "id": "-t7tWcv8KLYA",
        "colab_type": "text"
      },
      "source": [
        "**Example**\n",
        "Create a class named Student, which will inherit the properties and methods from the Person class:\n",
        "\n"
      ]
    },
    {
      "cell_type": "code",
      "metadata": {
        "id": "4wXIxeKFKfbI",
        "colab_type": "code",
        "colab": {}
      },
      "source": [
        "class Student(Person):\n",
        "  pass"
      ],
      "execution_count": 39,
      "outputs": []
    },
    {
      "cell_type": "markdown",
      "metadata": {
        "id": "eVJVevxYKlZd",
        "colab_type": "text"
      },
      "source": [
        "**Note**: Use the ***pass*** keyword when you do not want to add any other properties or methods to the class.\n",
        "\n",
        "Now the Student class has the same properties and methods as the Person class."
      ]
    },
    {
      "cell_type": "markdown",
      "metadata": {
        "id": "XFVpWAqeK6W6",
        "colab_type": "text"
      },
      "source": [
        "**Example**\n",
        "Use the Student class to create an object, and then execute the printname method:"
      ]
    },
    {
      "cell_type": "code",
      "metadata": {
        "id": "k0bNoTNjK8JQ",
        "colab_type": "code",
        "colab": {}
      },
      "source": [
        "class Person:\n",
        "  def __init__(self, fname, lname):\n",
        "    self.firstname = fname\n",
        "    self.lastname = lname\n",
        "\n",
        "  def printname(self):\n",
        "    print(self.firstname, self.lastname)\n",
        "\n",
        "class Student(Person):\n",
        "  pass\n",
        "\n",
        "x = Student(\"Mike\", \"Olsen\")\n",
        "x.printname()"
      ],
      "execution_count": null,
      "outputs": []
    },
    {
      "cell_type": "markdown",
      "metadata": {
        "id": "mav-VZ27LdoM",
        "colab_type": "text"
      },
      "source": [
        "Add the __init__() Function\n",
        "So far we have created a child class that inherits the properties and methods from its parent.\n",
        "\n",
        "We want to add the __init__() function to the child class (instead of the pass keyword)."
      ]
    },
    {
      "cell_type": "markdown",
      "metadata": {
        "id": "44wPtAeYLfwa",
        "colab_type": "text"
      },
      "source": [
        "**Note**: The __init__() function is called automatically every time the class is being used to create a new object."
      ]
    },
    {
      "cell_type": "markdown",
      "metadata": {
        "id": "iy7rBuhtLjYB",
        "colab_type": "text"
      },
      "source": [
        "**Example**:\n",
        "Add the __init__() function to the Student class:"
      ]
    },
    {
      "cell_type": "code",
      "metadata": {
        "id": "pIidNolwLngA",
        "colab_type": "code",
        "colab": {}
      },
      "source": [
        "class Student(Person):\n",
        "  def __init__(self, fname, lname):\n",
        "    #add properties etc."
      ],
      "execution_count": null,
      "outputs": []
    },
    {
      "cell_type": "markdown",
      "metadata": {
        "id": "8yOF16vDLqzh",
        "colab_type": "text"
      },
      "source": [
        "When you add the __init__() function, the child class will no longer inherit the parent's __init__() function."
      ]
    },
    {
      "cell_type": "markdown",
      "metadata": {
        "id": "7FPORwEXLyJG",
        "colab_type": "text"
      },
      "source": [
        "**Note**: The child's __init__() function **overrides** the inheritance of the parent's __init__() function."
      ]
    },
    {
      "cell_type": "markdown",
      "metadata": {
        "id": "xXi9-6YhL2pq",
        "colab_type": "text"
      },
      "source": [
        "To keep the inheritance of the parent's __init__() function, add a call to the parent's __init__() function:"
      ]
    },
    {
      "cell_type": "markdown",
      "metadata": {
        "id": "2ShzoLMrL6z0",
        "colab_type": "text"
      },
      "source": [
        "**Example**"
      ]
    },
    {
      "cell_type": "code",
      "metadata": {
        "id": "MiVDPxPaL-sD",
        "colab_type": "code",
        "colab": {}
      },
      "source": [
        "class Person:\n",
        "  def __init__(self, fname, lname):\n",
        "    self.firstname = fname\n",
        "    self.lastname = lname\n",
        "\n",
        "  def printname(self):\n",
        "    print(self.firstname, self.lastname)\n",
        "\n",
        "class Student(Person):\n",
        "  def __init__(self, fname, lname):\n",
        "    Person.__init__(self, fname, lname)\n",
        "\n",
        "x = Student(\"Mike\", \"Olsen\")\n",
        "x.printname()\n"
      ],
      "execution_count": null,
      "outputs": []
    },
    {
      "cell_type": "markdown",
      "metadata": {
        "id": "rX4-2-bGMFfY",
        "colab_type": "text"
      },
      "source": [
        "Now we have successfully added the __init__() function, and kept the inheritance of the parent class, and we are ready to add functionality in the __init__() function.\n",
        "\n"
      ]
    },
    {
      "cell_type": "markdown",
      "metadata": {
        "id": "_y6IIq7NMTDc",
        "colab_type": "text"
      },
      "source": [
        "**Use the super() Function**\n",
        "Python also has a **super**() function that will make the child class inherit all the methods and properties from its parent:"
      ]
    },
    {
      "cell_type": "markdown",
      "metadata": {
        "id": "AD1ltkqCMZXo",
        "colab_type": "text"
      },
      "source": [
        "**Example**"
      ]
    },
    {
      "cell_type": "code",
      "metadata": {
        "id": "sjJbXpdpMcuR",
        "colab_type": "code",
        "colab": {}
      },
      "source": [
        "class Person:\n",
        "  def __init__(self, fname, lname):\n",
        "    self.firstname = fname\n",
        "    self.lastname = lname\n",
        "\n",
        "  def printname(self):\n",
        "    print(self.firstname, self.lastname)\n",
        "\n",
        "class Student(Person):\n",
        "  def __init__(self, fname, lname):\n",
        "    super().__init__(fname, lname)\n",
        "\n",
        "x = Student(\"Mike\", \"Olsen\")\n",
        "x.printname()\n"
      ],
      "execution_count": null,
      "outputs": []
    },
    {
      "cell_type": "markdown",
      "metadata": {
        "id": "buxC5zrTMrEj",
        "colab_type": "text"
      },
      "source": [
        "By using the **super**() function, you do not have to use the name of the parent element, it will automatically inherit the methods and properties from its parent."
      ]
    },
    {
      "cell_type": "markdown",
      "metadata": {
        "id": "dp9e4-TnM7wI",
        "colab_type": "text"
      },
      "source": [
        "**Add Properties**"
      ]
    },
    {
      "cell_type": "markdown",
      "metadata": {
        "id": "rVRNuoYfM_6u",
        "colab_type": "text"
      },
      "source": [
        "Example\n",
        "Add a property called ***graduationyear*** to the ***Student*** class:"
      ]
    },
    {
      "cell_type": "code",
      "metadata": {
        "id": "AIUBDV00NM31",
        "colab_type": "code",
        "colab": {}
      },
      "source": [
        "class Person:\n",
        "  def __init__(self, fname, lname):\n",
        "    self.firstname = fname\n",
        "    self.lastname = lname\n",
        "\n",
        "  def printname(self):\n",
        "    print(self.firstname, self.lastname)\n",
        "\n",
        "class Student(Person):\n",
        "  def __init__(self, fname, lname):\n",
        "    super().__init__(fname, lname)\n",
        "    self.graduationyear = 2021\n",
        "\n",
        "x = Student(\"Mike\", \"Olsen\")\n",
        "print(x.graduationyear)"
      ],
      "execution_count": null,
      "outputs": []
    },
    {
      "cell_type": "markdown",
      "metadata": {
        "id": "EbUp4PI2NTOM",
        "colab_type": "text"
      },
      "source": [
        "In the example below, the year 2021 should be a variable, and passed into the Student class when creating student objects. To do so, add another parameter in the __init__() function:\n",
        "\n"
      ]
    },
    {
      "cell_type": "markdown",
      "metadata": {
        "id": "3W9z02p6N4cu",
        "colab_type": "text"
      },
      "source": [
        "**Example**\n",
        "\n",
        "Add a year parameter, and pass the correct year when creating objects:"
      ]
    },
    {
      "cell_type": "code",
      "metadata": {
        "id": "IHuo5-wxOFmT",
        "colab_type": "code",
        "colab": {
          "base_uri": "https://localhost:8080/",
          "height": 34
        },
        "outputId": "9c4627ae-6c3f-4993-d707-913b643cb9c8"
      },
      "source": [
        "class Person:\n",
        "  def __init__(self, fname, lname):\n",
        "    self.firstname = fname\n",
        "    self.lastname = lname\n",
        "\n",
        "  def printname(self):\n",
        "    print(self.firstname, self.lastname)\n",
        "\n",
        "class Student(Person):\n",
        "  def __init__(self, fname, lname, year):\n",
        "    super().__init__(fname, lname)\n",
        "    self.graduationyear = year\n",
        "\n",
        "x = Student(\"Mike\", \"Olsen\", 2021)\n",
        "print(x.graduationyear)"
      ],
      "execution_count": 47,
      "outputs": [
        {
          "output_type": "stream",
          "text": [
            "2021\n"
          ],
          "name": "stdout"
        }
      ]
    },
    {
      "cell_type": "markdown",
      "metadata": {
        "id": "RXqdxiYQOh12",
        "colab_type": "text"
      },
      "source": [
        "**Add Methods**"
      ]
    },
    {
      "cell_type": "markdown",
      "metadata": {
        "id": "mMXkfgJHOlSY",
        "colab_type": "text"
      },
      "source": [
        "**Example**\n",
        "Add a method called welcome to the Student class:"
      ]
    },
    {
      "cell_type": "code",
      "metadata": {
        "id": "4zlUgXgUOxxK",
        "colab_type": "code",
        "colab": {}
      },
      "source": [
        "class Person:\n",
        "  def __init__(self, fname, lname):\n",
        "    self.firstname = fname\n",
        "    self.lastname = lname\n",
        "\n",
        "  def printname(self):\n",
        "    print(self.firstname, self.lastname)\n",
        "\n",
        "class Student(Person):\n",
        "  def __init__(self, fname, lname, year):\n",
        "    super().__init__(fname, lname)\n",
        "    self.graduationyear = year\n",
        "\n",
        "  def welcome(self):\n",
        "    print(\"Welcome\", self.firstname, self.lastname, \"to the class of\", self.graduationyear)\n",
        "\n",
        "x = Student(\"Mike\", \"Olsen\", 2021)\n",
        "x.welcome()"
      ],
      "execution_count": null,
      "outputs": []
    },
    {
      "cell_type": "markdown",
      "metadata": {
        "id": "hneoBYI0PBDu",
        "colab_type": "text"
      },
      "source": [
        "__If you add a method in the child class with the same name as a function in the parent class, the inheritance of the parent method will be overridden.__"
      ]
    }
  ]
}