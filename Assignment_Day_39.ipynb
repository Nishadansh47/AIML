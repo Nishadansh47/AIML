{
  "nbformat": 4,
  "nbformat_minor": 0,
  "metadata": {
    "colab": {
      "name": "Assignment_Day_39.ipynb",
      "provenance": [],
      "collapsed_sections": []
    },
    "kernelspec": {
      "name": "python3",
      "display_name": "Python 3"
    }
  },
  "cells": [
    {
      "cell_type": "markdown",
      "metadata": {
        "id": "cWqeNVbgPLtM"
      },
      "source": [
        "# **Market Basket Analysis**#"
      ]
    },
    {
      "cell_type": "code",
      "metadata": {
        "id": "ymwUnJQwO5Sz"
      },
      "source": [
        "import numpy as np \r\n",
        "import pandas as pd \r\n",
        "import seaborn as sns \r\n",
        "sns.set(style='darkgrid')\r\n",
        "import matplotlib.pyplot as plt \r\n",
        "from mlxtend.frequent_patterns import apriori\r\n",
        "from mlxtend.preprocessing import TransactionEncoder\r\n",
        "from mlxtend.frequent_patterns import association_rules"
      ],
      "execution_count": 1,
      "outputs": []
    },
    {
      "cell_type": "code",
      "metadata": {
        "colab": {
          "base_uri": "https://localhost:8080/"
        },
        "id": "ONtb5i1vPlW2",
        "outputId": "ba66f514-8bf6-43ea-c878-3dc578cb646b"
      },
      "source": [
        "from google.colab import drive\r\n",
        "drive.mount('/content/drive')"
      ],
      "execution_count": 4,
      "outputs": [
        {
          "output_type": "stream",
          "text": [
            "Drive already mounted at /content/drive; to attempt to forcibly remount, call drive.mount(\"/content/drive\", force_remount=True).\n"
          ],
          "name": "stdout"
        }
      ]
    },
    {
      "cell_type": "code",
      "metadata": {
        "id": "al98bRlKPzzi"
      },
      "source": [
        "path = ('/content/drive/MyDrive/Colab Notebooks/AIML/BreadBasket_DMS - Arindam Dev.csv')"
      ],
      "execution_count": 5,
      "outputs": []
    },
    {
      "cell_type": "code",
      "metadata": {
        "id": "xv8pJIpBQSLD"
      },
      "source": [
        "data = pd.read_csv(path)"
      ],
      "execution_count": 6,
      "outputs": []
    },
    {
      "cell_type": "code",
      "metadata": {
        "colab": {
          "base_uri": "https://localhost:8080/",
          "height": 204
        },
        "id": "jr2AUYu_QYhG",
        "outputId": "a59aa896-59d6-46a9-88b6-4f863084313d"
      },
      "source": [
        "data.head()"
      ],
      "execution_count": 7,
      "outputs": [
        {
          "output_type": "execute_result",
          "data": {
            "text/html": [
              "<div>\n",
              "<style scoped>\n",
              "    .dataframe tbody tr th:only-of-type {\n",
              "        vertical-align: middle;\n",
              "    }\n",
              "\n",
              "    .dataframe tbody tr th {\n",
              "        vertical-align: top;\n",
              "    }\n",
              "\n",
              "    .dataframe thead th {\n",
              "        text-align: right;\n",
              "    }\n",
              "</style>\n",
              "<table border=\"1\" class=\"dataframe\">\n",
              "  <thead>\n",
              "    <tr style=\"text-align: right;\">\n",
              "      <th></th>\n",
              "      <th>Date</th>\n",
              "      <th>Time</th>\n",
              "      <th>Transaction</th>\n",
              "      <th>Item</th>\n",
              "    </tr>\n",
              "  </thead>\n",
              "  <tbody>\n",
              "    <tr>\n",
              "      <th>0</th>\n",
              "      <td>2016-10-30</td>\n",
              "      <td>09:58:11</td>\n",
              "      <td>1</td>\n",
              "      <td>Bread</td>\n",
              "    </tr>\n",
              "    <tr>\n",
              "      <th>1</th>\n",
              "      <td>2016-10-30</td>\n",
              "      <td>10:05:34</td>\n",
              "      <td>2</td>\n",
              "      <td>Scandinavian</td>\n",
              "    </tr>\n",
              "    <tr>\n",
              "      <th>2</th>\n",
              "      <td>2016-10-30</td>\n",
              "      <td>10:05:34</td>\n",
              "      <td>2</td>\n",
              "      <td>Scandinavian</td>\n",
              "    </tr>\n",
              "    <tr>\n",
              "      <th>3</th>\n",
              "      <td>2016-10-30</td>\n",
              "      <td>10:07:57</td>\n",
              "      <td>3</td>\n",
              "      <td>Hot chocolate</td>\n",
              "    </tr>\n",
              "    <tr>\n",
              "      <th>4</th>\n",
              "      <td>2016-10-30</td>\n",
              "      <td>10:07:57</td>\n",
              "      <td>3</td>\n",
              "      <td>Jam</td>\n",
              "    </tr>\n",
              "  </tbody>\n",
              "</table>\n",
              "</div>"
            ],
            "text/plain": [
              "         Date      Time  Transaction           Item\n",
              "0  2016-10-30  09:58:11            1          Bread\n",
              "1  2016-10-30  10:05:34            2   Scandinavian\n",
              "2  2016-10-30  10:05:34            2   Scandinavian\n",
              "3  2016-10-30  10:07:57            3  Hot chocolate\n",
              "4  2016-10-30  10:07:57            3            Jam"
            ]
          },
          "metadata": {
            "tags": []
          },
          "execution_count": 7
        }
      ]
    },
    {
      "cell_type": "code",
      "metadata": {
        "colab": {
          "base_uri": "https://localhost:8080/"
        },
        "id": "WGSANL1HQcS3",
        "outputId": "22c30675-b7d9-4f29-a3f1-b85c2046d394"
      },
      "source": [
        "data.shape"
      ],
      "execution_count": 8,
      "outputs": [
        {
          "output_type": "execute_result",
          "data": {
            "text/plain": [
              "(21293, 4)"
            ]
          },
          "metadata": {
            "tags": []
          },
          "execution_count": 8
        }
      ]
    },
    {
      "cell_type": "code",
      "metadata": {
        "colab": {
          "base_uri": "https://localhost:8080/"
        },
        "id": "F2PQcEztQq23",
        "outputId": "ef6a3591-d858-4af9-b4d5-24268fa8cbe7"
      },
      "source": [
        "data.info()"
      ],
      "execution_count": 9,
      "outputs": [
        {
          "output_type": "stream",
          "text": [
            "<class 'pandas.core.frame.DataFrame'>\n",
            "RangeIndex: 21293 entries, 0 to 21292\n",
            "Data columns (total 4 columns):\n",
            " #   Column       Non-Null Count  Dtype \n",
            "---  ------       --------------  ----- \n",
            " 0   Date         21293 non-null  object\n",
            " 1   Time         21293 non-null  object\n",
            " 2   Transaction  21293 non-null  int64 \n",
            " 3   Item         21293 non-null  object\n",
            "dtypes: int64(1), object(3)\n",
            "memory usage: 665.5+ KB\n"
          ],
          "name": "stdout"
        }
      ]
    },
    {
      "cell_type": "code",
      "metadata": {
        "colab": {
          "base_uri": "https://localhost:8080/"
        },
        "id": "CDeqWbFyQsjx",
        "outputId": "4fd13042-939f-4094-e258-e544b5ac5610"
      },
      "source": [
        "data.isnull().sum()"
      ],
      "execution_count": 10,
      "outputs": [
        {
          "output_type": "execute_result",
          "data": {
            "text/plain": [
              "Date           0\n",
              "Time           0\n",
              "Transaction    0\n",
              "Item           0\n",
              "dtype: int64"
            ]
          },
          "metadata": {
            "tags": []
          },
          "execution_count": 10
        }
      ]
    },
    {
      "cell_type": "code",
      "metadata": {
        "colab": {
          "base_uri": "https://localhost:8080/"
        },
        "id": "VGcEYbIPQ0Ma",
        "outputId": "e9a4a5a3-f051-46c6-bd45-77f37c212c4a"
      },
      "source": [
        "data.nunique()"
      ],
      "execution_count": 11,
      "outputs": [
        {
          "output_type": "execute_result",
          "data": {
            "text/plain": [
              "Date            159\n",
              "Time           8240\n",
              "Transaction    9531\n",
              "Item             95\n",
              "dtype: int64"
            ]
          },
          "metadata": {
            "tags": []
          },
          "execution_count": 11
        }
      ]
    },
    {
      "cell_type": "code",
      "metadata": {
        "colab": {
          "base_uri": "https://localhost:8080/"
        },
        "id": "fZ1OftmLQ2fe",
        "outputId": "f8d904e7-5439-4b67-ded6-c98d3692a167"
      },
      "source": [
        "data[\"Item\"].unique()"
      ],
      "execution_count": 12,
      "outputs": [
        {
          "output_type": "execute_result",
          "data": {
            "text/plain": [
              "array(['Bread', 'Scandinavian', 'Hot chocolate', 'Jam', 'Cookies',\n",
              "       'Muffin', 'Coffee', 'Pastry', 'Medialuna', 'Tea', 'NONE',\n",
              "       'Tartine', 'Basket', 'Mineral water', 'Farm House', 'Fudge',\n",
              "       'Juice', \"Ella's Kitchen Pouches\", 'Victorian Sponge', 'Frittata',\n",
              "       'Hearty & Seasonal', 'Soup', 'Pick and Mix Bowls', 'Smoothies',\n",
              "       'Cake', 'Mighty Protein', 'Chicken sand', 'Coke',\n",
              "       'My-5 Fruit Shoot', 'Focaccia', 'Sandwich', 'Alfajores', 'Eggs',\n",
              "       'Brownie', 'Dulce de Leche', 'Honey', 'The BART', 'Granola',\n",
              "       'Fairy Doors', 'Empanadas', 'Keeping It Local', 'Art Tray',\n",
              "       'Bowl Nic Pitt', 'Bread Pudding', 'Adjustment', 'Truffles',\n",
              "       'Chimichurri Oil', 'Bacon', 'Spread', 'Kids biscuit', 'Siblings',\n",
              "       'Caramel bites', 'Jammie Dodgers', 'Tiffin', 'Olum & polenta',\n",
              "       'Polenta', 'The Nomad', 'Hack the stack', 'Bakewell',\n",
              "       'Lemon and coconut', 'Toast', 'Scone', 'Crepes', 'Vegan mincepie',\n",
              "       'Bare Popcorn', 'Muesli', 'Crisps', 'Pintxos', 'Gingerbread syrup',\n",
              "       'Panatone', 'Brioche and salami', 'Afternoon with the baker',\n",
              "       'Salad', 'Chicken Stew', 'Spanish Brunch',\n",
              "       'Raspberry shortbread sandwich', 'Extra Salami or Feta',\n",
              "       'Duck egg', 'Baguette', \"Valentine's card\", 'Tshirt',\n",
              "       'Vegan Feast', 'Postcard', 'Nomad bag', 'Chocolates',\n",
              "       'Coffee granules ', 'Drinking chocolate spoons ',\n",
              "       'Christmas common', 'Argentina Night', 'Half slice Monster ',\n",
              "       'Gift voucher', 'Cherry me Dried fruit', 'Mortimer', 'Raw bars',\n",
              "       'Tacos/Fajita'], dtype=object)"
            ]
          },
          "metadata": {
            "tags": []
          },
          "execution_count": 12
        }
      ]
    },
    {
      "cell_type": "code",
      "metadata": {
        "colab": {
          "base_uri": "https://localhost:8080/",
          "height": 419
        },
        "id": "O1GSP86pQ7F9",
        "outputId": "2045b995-a470-4b04-c2f6-8d8abb633fec"
      },
      "source": [
        "data[data[\"Item\"]==\"NONE\"]"
      ],
      "execution_count": 13,
      "outputs": [
        {
          "output_type": "execute_result",
          "data": {
            "text/html": [
              "<div>\n",
              "<style scoped>\n",
              "    .dataframe tbody tr th:only-of-type {\n",
              "        vertical-align: middle;\n",
              "    }\n",
              "\n",
              "    .dataframe tbody tr th {\n",
              "        vertical-align: top;\n",
              "    }\n",
              "\n",
              "    .dataframe thead th {\n",
              "        text-align: right;\n",
              "    }\n",
              "</style>\n",
              "<table border=\"1\" class=\"dataframe\">\n",
              "  <thead>\n",
              "    <tr style=\"text-align: right;\">\n",
              "      <th></th>\n",
              "      <th>Date</th>\n",
              "      <th>Time</th>\n",
              "      <th>Transaction</th>\n",
              "      <th>Item</th>\n",
              "    </tr>\n",
              "  </thead>\n",
              "  <tbody>\n",
              "    <tr>\n",
              "      <th>26</th>\n",
              "      <td>2016-10-30</td>\n",
              "      <td>10:27:21</td>\n",
              "      <td>11</td>\n",
              "      <td>NONE</td>\n",
              "    </tr>\n",
              "    <tr>\n",
              "      <th>38</th>\n",
              "      <td>2016-10-30</td>\n",
              "      <td>10:34:36</td>\n",
              "      <td>15</td>\n",
              "      <td>NONE</td>\n",
              "    </tr>\n",
              "    <tr>\n",
              "      <th>39</th>\n",
              "      <td>2016-10-30</td>\n",
              "      <td>10:34:36</td>\n",
              "      <td>15</td>\n",
              "      <td>NONE</td>\n",
              "    </tr>\n",
              "    <tr>\n",
              "      <th>66</th>\n",
              "      <td>2016-10-30</td>\n",
              "      <td>11:05:30</td>\n",
              "      <td>29</td>\n",
              "      <td>NONE</td>\n",
              "    </tr>\n",
              "    <tr>\n",
              "      <th>80</th>\n",
              "      <td>2016-10-30</td>\n",
              "      <td>11:37:10</td>\n",
              "      <td>37</td>\n",
              "      <td>NONE</td>\n",
              "    </tr>\n",
              "    <tr>\n",
              "      <th>...</th>\n",
              "      <td>...</td>\n",
              "      <td>...</td>\n",
              "      <td>...</td>\n",
              "      <td>...</td>\n",
              "    </tr>\n",
              "    <tr>\n",
              "      <th>21108</th>\n",
              "      <td>2017-04-08</td>\n",
              "      <td>11:54:22</td>\n",
              "      <td>9590</td>\n",
              "      <td>NONE</td>\n",
              "    </tr>\n",
              "    <tr>\n",
              "      <th>21122</th>\n",
              "      <td>2017-04-08</td>\n",
              "      <td>12:58:25</td>\n",
              "      <td>9599</td>\n",
              "      <td>NONE</td>\n",
              "    </tr>\n",
              "    <tr>\n",
              "      <th>21254</th>\n",
              "      <td>2017-04-09</td>\n",
              "      <td>12:01:07</td>\n",
              "      <td>9666</td>\n",
              "      <td>NONE</td>\n",
              "    </tr>\n",
              "    <tr>\n",
              "      <th>21255</th>\n",
              "      <td>2017-04-09</td>\n",
              "      <td>12:04:13</td>\n",
              "      <td>9667</td>\n",
              "      <td>NONE</td>\n",
              "    </tr>\n",
              "    <tr>\n",
              "      <th>21266</th>\n",
              "      <td>2017-04-09</td>\n",
              "      <td>12:31:28</td>\n",
              "      <td>9672</td>\n",
              "      <td>NONE</td>\n",
              "    </tr>\n",
              "  </tbody>\n",
              "</table>\n",
              "<p>786 rows × 4 columns</p>\n",
              "</div>"
            ],
            "text/plain": [
              "             Date      Time  Transaction  Item\n",
              "26     2016-10-30  10:27:21           11  NONE\n",
              "38     2016-10-30  10:34:36           15  NONE\n",
              "39     2016-10-30  10:34:36           15  NONE\n",
              "66     2016-10-30  11:05:30           29  NONE\n",
              "80     2016-10-30  11:37:10           37  NONE\n",
              "...           ...       ...          ...   ...\n",
              "21108  2017-04-08  11:54:22         9590  NONE\n",
              "21122  2017-04-08  12:58:25         9599  NONE\n",
              "21254  2017-04-09  12:01:07         9666  NONE\n",
              "21255  2017-04-09  12:04:13         9667  NONE\n",
              "21266  2017-04-09  12:31:28         9672  NONE\n",
              "\n",
              "[786 rows x 4 columns]"
            ]
          },
          "metadata": {
            "tags": []
          },
          "execution_count": 13
        }
      ]
    },
    {
      "cell_type": "code",
      "metadata": {
        "id": "mGB25phVRDQW"
      },
      "source": [
        "updated_data = data.drop(data[data[\"Item\"]==\"NONE\"].index)"
      ],
      "execution_count": 14,
      "outputs": []
    },
    {
      "cell_type": "code",
      "metadata": {
        "colab": {
          "base_uri": "https://localhost:8080/"
        },
        "id": "7fz-TO_uRJNH",
        "outputId": "39627ae1-3c3d-4d08-f727-dd4f688e7ce1"
      },
      "source": [
        "updated_data.shape"
      ],
      "execution_count": 15,
      "outputs": [
        {
          "output_type": "execute_result",
          "data": {
            "text/plain": [
              "(20507, 4)"
            ]
          },
          "metadata": {
            "tags": []
          },
          "execution_count": 15
        }
      ]
    },
    {
      "cell_type": "code",
      "metadata": {
        "id": "pS_25wJzRMgc"
      },
      "source": [
        "updated_data[\"Day\"] = updated_data[\"Date\"].apply(lambda x:x.split(\"-\")[2])\r\n",
        "\r\n",
        "updated_data[\"Month\"] = updated_data[\"Date\"].apply(lambda x:x.split(\"-\")[1])\r\n",
        "\r\n",
        "updated_data[\"Year\"] = updated_data[\"Date\"].apply(lambda x:x.split(\"-\")[0])"
      ],
      "execution_count": 16,
      "outputs": []
    },
    {
      "cell_type": "code",
      "metadata": {
        "colab": {
          "base_uri": "https://localhost:8080/",
          "height": 204
        },
        "id": "UGLZP7aIRVT_",
        "outputId": "3b396c30-e1fa-4a57-a6bb-17b0ba48858c"
      },
      "source": [
        "updated_data.head()"
      ],
      "execution_count": 17,
      "outputs": [
        {
          "output_type": "execute_result",
          "data": {
            "text/html": [
              "<div>\n",
              "<style scoped>\n",
              "    .dataframe tbody tr th:only-of-type {\n",
              "        vertical-align: middle;\n",
              "    }\n",
              "\n",
              "    .dataframe tbody tr th {\n",
              "        vertical-align: top;\n",
              "    }\n",
              "\n",
              "    .dataframe thead th {\n",
              "        text-align: right;\n",
              "    }\n",
              "</style>\n",
              "<table border=\"1\" class=\"dataframe\">\n",
              "  <thead>\n",
              "    <tr style=\"text-align: right;\">\n",
              "      <th></th>\n",
              "      <th>Date</th>\n",
              "      <th>Time</th>\n",
              "      <th>Transaction</th>\n",
              "      <th>Item</th>\n",
              "      <th>Day</th>\n",
              "      <th>Month</th>\n",
              "      <th>Year</th>\n",
              "    </tr>\n",
              "  </thead>\n",
              "  <tbody>\n",
              "    <tr>\n",
              "      <th>0</th>\n",
              "      <td>2016-10-30</td>\n",
              "      <td>09:58:11</td>\n",
              "      <td>1</td>\n",
              "      <td>Bread</td>\n",
              "      <td>30</td>\n",
              "      <td>10</td>\n",
              "      <td>2016</td>\n",
              "    </tr>\n",
              "    <tr>\n",
              "      <th>1</th>\n",
              "      <td>2016-10-30</td>\n",
              "      <td>10:05:34</td>\n",
              "      <td>2</td>\n",
              "      <td>Scandinavian</td>\n",
              "      <td>30</td>\n",
              "      <td>10</td>\n",
              "      <td>2016</td>\n",
              "    </tr>\n",
              "    <tr>\n",
              "      <th>2</th>\n",
              "      <td>2016-10-30</td>\n",
              "      <td>10:05:34</td>\n",
              "      <td>2</td>\n",
              "      <td>Scandinavian</td>\n",
              "      <td>30</td>\n",
              "      <td>10</td>\n",
              "      <td>2016</td>\n",
              "    </tr>\n",
              "    <tr>\n",
              "      <th>3</th>\n",
              "      <td>2016-10-30</td>\n",
              "      <td>10:07:57</td>\n",
              "      <td>3</td>\n",
              "      <td>Hot chocolate</td>\n",
              "      <td>30</td>\n",
              "      <td>10</td>\n",
              "      <td>2016</td>\n",
              "    </tr>\n",
              "    <tr>\n",
              "      <th>4</th>\n",
              "      <td>2016-10-30</td>\n",
              "      <td>10:07:57</td>\n",
              "      <td>3</td>\n",
              "      <td>Jam</td>\n",
              "      <td>30</td>\n",
              "      <td>10</td>\n",
              "      <td>2016</td>\n",
              "    </tr>\n",
              "  </tbody>\n",
              "</table>\n",
              "</div>"
            ],
            "text/plain": [
              "         Date      Time  Transaction           Item Day Month  Year\n",
              "0  2016-10-30  09:58:11            1          Bread  30    10  2016\n",
              "1  2016-10-30  10:05:34            2   Scandinavian  30    10  2016\n",
              "2  2016-10-30  10:05:34            2   Scandinavian  30    10  2016\n",
              "3  2016-10-30  10:07:57            3  Hot chocolate  30    10  2016\n",
              "4  2016-10-30  10:07:57            3            Jam  30    10  2016"
            ]
          },
          "metadata": {
            "tags": []
          },
          "execution_count": 17
        }
      ]
    },
    {
      "cell_type": "markdown",
      "metadata": {
        "id": "dIk-3DZFReNp"
      },
      "source": [
        "# *Now that we have cleaned the data and also add some features, now let's find the most sold items* #"
      ]
    },
    {
      "cell_type": "code",
      "metadata": {
        "colab": {
          "base_uri": "https://localhost:8080/"
        },
        "id": "iNx9q7QKRYdP",
        "outputId": "e1b6493b-d0b1-4205-80b4-c515f9c0b860"
      },
      "source": [
        "most_sold = updated_data[\"Item\"].value_counts()\r\n",
        "most_sold.head(20)"
      ],
      "execution_count": 18,
      "outputs": [
        {
          "output_type": "execute_result",
          "data": {
            "text/plain": [
              "Coffee           5471\n",
              "Bread            3325\n",
              "Tea              1435\n",
              "Cake             1025\n",
              "Pastry            856\n",
              "Sandwich          771\n",
              "Medialuna         616\n",
              "Hot chocolate     590\n",
              "Cookies           540\n",
              "Brownie           379\n",
              "Farm House        374\n",
              "Muffin            370\n",
              "Juice             369\n",
              "Alfajores         369\n",
              "Soup              342\n",
              "Scone             327\n",
              "Toast             318\n",
              "Scandinavian      277\n",
              "Truffles          193\n",
              "Coke              185\n",
              "Name: Item, dtype: int64"
            ]
          },
          "metadata": {
            "tags": []
          },
          "execution_count": 18
        }
      ]
    },
    {
      "cell_type": "code",
      "metadata": {
        "colab": {
          "base_uri": "https://localhost:8080/",
          "height": 661
        },
        "id": "ejvz-xUlSLND",
        "outputId": "e2a93ec0-b162-4c4c-a61f-6c54877d8d16"
      },
      "source": [
        "plt.figure(figsize=(15,8))\r\n",
        "plt.title(\"TOP - 10 most sold items\", fontsize=30)\r\n",
        "plt.xticks(fontsize=20)\r\n",
        "plt.yticks(fontsize=20)\r\n",
        "most_sold.head(10).plot(kind=\"bar\")"
      ],
      "execution_count": 19,
      "outputs": [
        {
          "output_type": "execute_result",
          "data": {
            "text/plain": [
              "<matplotlib.axes._subplots.AxesSubplot at 0x7feb9be0a590>"
            ]
          },
          "metadata": {
            "tags": []
          },
          "execution_count": 19
        },
        {
          "output_type": "display_data",
          "data": {
            "image/png": "[encoded data removed]",
            "text/plain": [
              "<Figure size 1080x576 with 1 Axes>"
            ]
          },
          "metadata": {
            "tags": [],
            "needs_background": "light"
          }
        }
      ]
    },
    {
      "cell_type": "code",
      "metadata": {
        "colab": {
          "base_uri": "https://localhost:8080/",
          "height": 547
        },
        "id": "X1xGQv9lSgyD",
        "outputId": "91efa8ef-d6d4-455a-d19f-f55b1480381e"
      },
      "source": [
        "monthly_sales =  updated_data.groupby('Month')['Transaction'].nunique()\r\n",
        "\r\n",
        "plt.figure(figsize=(15,8))\r\n",
        "plt.title(\"Monthly Sales\", fontsize=30)\r\n",
        "plt.xticks(fontsize=20)\r\n",
        "plt.yticks(fontsize=20)\r\n",
        "monthly_sales.plot(kind=\"bar\")\r\n",
        "plt.show()"
      ],
      "execution_count": 20,
      "outputs": [
        {
          "output_type": "display_data",
          "data": {
            "image/png": "[encoded data removed]",
            "text/plain": [
              "<Figure size 1080x576 with 1 Axes>"
            ]
          },
          "metadata": {
            "tags": [],
            "needs_background": "light"
          }
        }
      ]
    },
    {
      "cell_type": "code",
      "metadata": {
        "colab": {
          "base_uri": "https://localhost:8080/"
        },
        "id": "4OPo_5QhTED-",
        "outputId": "1e7536ff-985f-41e0-c115-2ed23afa9e40"
      },
      "source": [
        "tran_list = []\r\n",
        "\r\n",
        "# We will loop through all the unique transactions then append the items of unique transactions into a list\r\n",
        "\r\n",
        "for i in updated_data['Transaction'].unique():\r\n",
        "    tlist = list(set(updated_data[updated_data[\"Transaction\"]==i][\"Item\"]))\r\n",
        "    if len(tlist)>0:\r\n",
        "        tran_list.append(tlist)\r\n",
        "\r\n",
        "len(tran_list)  "
      ],
      "execution_count": 21,
      "outputs": [
        {
          "output_type": "execute_result",
          "data": {
            "text/plain": [
              "9465"
            ]
          },
          "metadata": {
            "tags": []
          },
          "execution_count": 21
        }
      ]
    },
    {
      "cell_type": "code",
      "metadata": {
        "id": "X0MYx99DTRgt"
      },
      "source": [
        "tran_encoder = TransactionEncoder()\r\n",
        "te = tran_encoder.fit(tran_list).transform(tran_list)\r\n",
        "\r\n",
        "updated_data = pd.DataFrame(te, columns = tran_encoder.columns_)"
      ],
      "execution_count": 22,
      "outputs": []
    },
    {
      "cell_type": "code",
      "metadata": {
        "id": "80LQpewETXnJ"
      },
      "source": [
        "frequent_itemsets = apriori(updated_data, min_support=0.02, use_colnames=True)\r\n",
        "\r\n",
        "rules = association_rules(frequent_itemsets, metric='lift', min_threshold=1.0)"
      ],
      "execution_count": 23,
      "outputs": []
    },
    {
      "cell_type": "code",
      "metadata": {
        "colab": {
          "base_uri": "https://localhost:8080/",
          "height": 669
        },
        "id": "hPSsZrHXTdkE",
        "outputId": "359fceca-4cb5-49b8-b264-304a69ac6ac3"
      },
      "source": [
        "rules.sort_values('confidence', ascending=False)"
      ],
      "execution_count": 24,
      "outputs": [
        {
          "output_type": "execute_result",
          "data": {
            "text/html": [
              "<div>\n",
              "<style scoped>\n",
              "    .dataframe tbody tr th:only-of-type {\n",
              "        vertical-align: middle;\n",
              "    }\n",
              "\n",
              "    .dataframe tbody tr th {\n",
              "        vertical-align: top;\n",
              "    }\n",
              "\n",
              "    .dataframe thead th {\n",
              "        text-align: right;\n",
              "    }\n",
              "</style>\n",
              "<table border=\"1\" class=\"dataframe\">\n",
              "  <thead>\n",
              "    <tr style=\"text-align: right;\">\n",
              "      <th></th>\n",
              "      <th>antecedents</th>\n",
              "      <th>consequents</th>\n",
              "      <th>antecedent support</th>\n",
              "      <th>consequent support</th>\n",
              "      <th>support</th>\n",
              "      <th>confidence</th>\n",
              "      <th>lift</th>\n",
              "      <th>leverage</th>\n",
              "      <th>conviction</th>\n",
              "    </tr>\n",
              "  </thead>\n",
              "  <tbody>\n",
              "    <tr>\n",
              "      <th>19</th>\n",
              "      <td>(Toast)</td>\n",
              "      <td>(Coffee)</td>\n",
              "      <td>0.033597</td>\n",
              "      <td>0.478394</td>\n",
              "      <td>0.023666</td>\n",
              "      <td>0.704403</td>\n",
              "      <td>1.472431</td>\n",
              "      <td>0.007593</td>\n",
              "      <td>1.764582</td>\n",
              "    </tr>\n",
              "    <tr>\n",
              "      <th>13</th>\n",
              "      <td>(Medialuna)</td>\n",
              "      <td>(Coffee)</td>\n",
              "      <td>0.061807</td>\n",
              "      <td>0.478394</td>\n",
              "      <td>0.035182</td>\n",
              "      <td>0.569231</td>\n",
              "      <td>1.189878</td>\n",
              "      <td>0.005614</td>\n",
              "      <td>1.210871</td>\n",
              "    </tr>\n",
              "    <tr>\n",
              "      <th>15</th>\n",
              "      <td>(Pastry)</td>\n",
              "      <td>(Coffee)</td>\n",
              "      <td>0.086107</td>\n",
              "      <td>0.478394</td>\n",
              "      <td>0.047544</td>\n",
              "      <td>0.552147</td>\n",
              "      <td>1.154168</td>\n",
              "      <td>0.006351</td>\n",
              "      <td>1.164682</td>\n",
              "    </tr>\n",
              "    <tr>\n",
              "      <th>10</th>\n",
              "      <td>(Juice)</td>\n",
              "      <td>(Coffee)</td>\n",
              "      <td>0.038563</td>\n",
              "      <td>0.478394</td>\n",
              "      <td>0.020602</td>\n",
              "      <td>0.534247</td>\n",
              "      <td>1.116750</td>\n",
              "      <td>0.002154</td>\n",
              "      <td>1.119919</td>\n",
              "    </tr>\n",
              "    <tr>\n",
              "      <th>16</th>\n",
              "      <td>(Sandwich)</td>\n",
              "      <td>(Coffee)</td>\n",
              "      <td>0.071844</td>\n",
              "      <td>0.478394</td>\n",
              "      <td>0.038246</td>\n",
              "      <td>0.532353</td>\n",
              "      <td>1.112792</td>\n",
              "      <td>0.003877</td>\n",
              "      <td>1.115384</td>\n",
              "    </tr>\n",
              "    <tr>\n",
              "      <th>3</th>\n",
              "      <td>(Cake)</td>\n",
              "      <td>(Coffee)</td>\n",
              "      <td>0.103856</td>\n",
              "      <td>0.478394</td>\n",
              "      <td>0.054728</td>\n",
              "      <td>0.526958</td>\n",
              "      <td>1.101515</td>\n",
              "      <td>0.005044</td>\n",
              "      <td>1.102664</td>\n",
              "    </tr>\n",
              "    <tr>\n",
              "      <th>7</th>\n",
              "      <td>(Cookies)</td>\n",
              "      <td>(Coffee)</td>\n",
              "      <td>0.054411</td>\n",
              "      <td>0.478394</td>\n",
              "      <td>0.028209</td>\n",
              "      <td>0.518447</td>\n",
              "      <td>1.083723</td>\n",
              "      <td>0.002179</td>\n",
              "      <td>1.083174</td>\n",
              "    </tr>\n",
              "    <tr>\n",
              "      <th>9</th>\n",
              "      <td>(Hot chocolate)</td>\n",
              "      <td>(Coffee)</td>\n",
              "      <td>0.058320</td>\n",
              "      <td>0.478394</td>\n",
              "      <td>0.029583</td>\n",
              "      <td>0.507246</td>\n",
              "      <td>1.060311</td>\n",
              "      <td>0.001683</td>\n",
              "      <td>1.058553</td>\n",
              "    </tr>\n",
              "    <tr>\n",
              "      <th>0</th>\n",
              "      <td>(Pastry)</td>\n",
              "      <td>(Bread)</td>\n",
              "      <td>0.086107</td>\n",
              "      <td>0.327205</td>\n",
              "      <td>0.029160</td>\n",
              "      <td>0.338650</td>\n",
              "      <td>1.034977</td>\n",
              "      <td>0.000985</td>\n",
              "      <td>1.017305</td>\n",
              "    </tr>\n",
              "    <tr>\n",
              "      <th>5</th>\n",
              "      <td>(Cake)</td>\n",
              "      <td>(Tea)</td>\n",
              "      <td>0.103856</td>\n",
              "      <td>0.142631</td>\n",
              "      <td>0.023772</td>\n",
              "      <td>0.228891</td>\n",
              "      <td>1.604781</td>\n",
              "      <td>0.008959</td>\n",
              "      <td>1.111865</td>\n",
              "    </tr>\n",
              "    <tr>\n",
              "      <th>4</th>\n",
              "      <td>(Tea)</td>\n",
              "      <td>(Cake)</td>\n",
              "      <td>0.142631</td>\n",
              "      <td>0.103856</td>\n",
              "      <td>0.023772</td>\n",
              "      <td>0.166667</td>\n",
              "      <td>1.604781</td>\n",
              "      <td>0.008959</td>\n",
              "      <td>1.075372</td>\n",
              "    </tr>\n",
              "    <tr>\n",
              "      <th>2</th>\n",
              "      <td>(Coffee)</td>\n",
              "      <td>(Cake)</td>\n",
              "      <td>0.478394</td>\n",
              "      <td>0.103856</td>\n",
              "      <td>0.054728</td>\n",
              "      <td>0.114399</td>\n",
              "      <td>1.101515</td>\n",
              "      <td>0.005044</td>\n",
              "      <td>1.011905</td>\n",
              "    </tr>\n",
              "    <tr>\n",
              "      <th>14</th>\n",
              "      <td>(Coffee)</td>\n",
              "      <td>(Pastry)</td>\n",
              "      <td>0.478394</td>\n",
              "      <td>0.086107</td>\n",
              "      <td>0.047544</td>\n",
              "      <td>0.099382</td>\n",
              "      <td>1.154168</td>\n",
              "      <td>0.006351</td>\n",
              "      <td>1.014740</td>\n",
              "    </tr>\n",
              "    <tr>\n",
              "      <th>1</th>\n",
              "      <td>(Bread)</td>\n",
              "      <td>(Pastry)</td>\n",
              "      <td>0.327205</td>\n",
              "      <td>0.086107</td>\n",
              "      <td>0.029160</td>\n",
              "      <td>0.089119</td>\n",
              "      <td>1.034977</td>\n",
              "      <td>0.000985</td>\n",
              "      <td>1.003306</td>\n",
              "    </tr>\n",
              "    <tr>\n",
              "      <th>17</th>\n",
              "      <td>(Coffee)</td>\n",
              "      <td>(Sandwich)</td>\n",
              "      <td>0.478394</td>\n",
              "      <td>0.071844</td>\n",
              "      <td>0.038246</td>\n",
              "      <td>0.079947</td>\n",
              "      <td>1.112792</td>\n",
              "      <td>0.003877</td>\n",
              "      <td>1.008807</td>\n",
              "    </tr>\n",
              "    <tr>\n",
              "      <th>12</th>\n",
              "      <td>(Coffee)</td>\n",
              "      <td>(Medialuna)</td>\n",
              "      <td>0.478394</td>\n",
              "      <td>0.061807</td>\n",
              "      <td>0.035182</td>\n",
              "      <td>0.073542</td>\n",
              "      <td>1.189878</td>\n",
              "      <td>0.005614</td>\n",
              "      <td>1.012667</td>\n",
              "    </tr>\n",
              "    <tr>\n",
              "      <th>8</th>\n",
              "      <td>(Coffee)</td>\n",
              "      <td>(Hot chocolate)</td>\n",
              "      <td>0.478394</td>\n",
              "      <td>0.058320</td>\n",
              "      <td>0.029583</td>\n",
              "      <td>0.061837</td>\n",
              "      <td>1.060311</td>\n",
              "      <td>0.001683</td>\n",
              "      <td>1.003749</td>\n",
              "    </tr>\n",
              "    <tr>\n",
              "      <th>6</th>\n",
              "      <td>(Coffee)</td>\n",
              "      <td>(Cookies)</td>\n",
              "      <td>0.478394</td>\n",
              "      <td>0.054411</td>\n",
              "      <td>0.028209</td>\n",
              "      <td>0.058966</td>\n",
              "      <td>1.083723</td>\n",
              "      <td>0.002179</td>\n",
              "      <td>1.004841</td>\n",
              "    </tr>\n",
              "    <tr>\n",
              "      <th>18</th>\n",
              "      <td>(Coffee)</td>\n",
              "      <td>(Toast)</td>\n",
              "      <td>0.478394</td>\n",
              "      <td>0.033597</td>\n",
              "      <td>0.023666</td>\n",
              "      <td>0.049470</td>\n",
              "      <td>1.472431</td>\n",
              "      <td>0.007593</td>\n",
              "      <td>1.016699</td>\n",
              "    </tr>\n",
              "    <tr>\n",
              "      <th>11</th>\n",
              "      <td>(Coffee)</td>\n",
              "      <td>(Juice)</td>\n",
              "      <td>0.478394</td>\n",
              "      <td>0.038563</td>\n",
              "      <td>0.020602</td>\n",
              "      <td>0.043065</td>\n",
              "      <td>1.116750</td>\n",
              "      <td>0.002154</td>\n",
              "      <td>1.004705</td>\n",
              "    </tr>\n",
              "  </tbody>\n",
              "</table>\n",
              "</div>"
            ],
            "text/plain": [
              "        antecedents      consequents  ...  leverage  conviction\n",
              "19          (Toast)         (Coffee)  ...  0.007593    1.764582\n",
              "13      (Medialuna)         (Coffee)  ...  0.005614    1.210871\n",
              "15         (Pastry)         (Coffee)  ...  0.006351    1.164682\n",
              "10          (Juice)         (Coffee)  ...  0.002154    1.119919\n",
              "16       (Sandwich)         (Coffee)  ...  0.003877    1.115384\n",
              "3            (Cake)         (Coffee)  ...  0.005044    1.102664\n",
              "7         (Cookies)         (Coffee)  ...  0.002179    1.083174\n",
              "9   (Hot chocolate)         (Coffee)  ...  0.001683    1.058553\n",
              "0          (Pastry)          (Bread)  ...  0.000985    1.017305\n",
              "5            (Cake)            (Tea)  ...  0.008959    1.111865\n",
              "4             (Tea)           (Cake)  ...  0.008959    1.075372\n",
              "2          (Coffee)           (Cake)  ...  0.005044    1.011905\n",
              "14         (Coffee)         (Pastry)  ...  0.006351    1.014740\n",
              "1           (Bread)         (Pastry)  ...  0.000985    1.003306\n",
              "17         (Coffee)       (Sandwich)  ...  0.003877    1.008807\n",
              "12         (Coffee)      (Medialuna)  ...  0.005614    1.012667\n",
              "8          (Coffee)  (Hot chocolate)  ...  0.001683    1.003749\n",
              "6          (Coffee)        (Cookies)  ...  0.002179    1.004841\n",
              "18         (Coffee)          (Toast)  ...  0.007593    1.016699\n",
              "11         (Coffee)          (Juice)  ...  0.002154    1.004705\n",
              "\n",
              "[20 rows x 9 columns]"
            ]
          },
          "metadata": {
            "tags": []
          },
          "execution_count": 24
        }
      ]
    },
    {
      "cell_type": "code",
      "metadata": {
        "id": "ERA_bgx8TkU6"
      },
      "source": [
        ""
      ],
      "execution_count": null,
      "outputs": []
    }
  ]
}